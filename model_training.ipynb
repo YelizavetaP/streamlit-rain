{
 "cells": [
  {
   "cell_type": "markdown",
   "metadata": {},
   "source": [
    "\n",
    "\n",
    "* Loading preprocessed data\n",
    "* Train Logistic regression\n",
    "* Train Decision Tree classifier\n",
    "* Traing XGBoost classifier\n",
    "* Train LightGBM classifier\n",
    "* Train Random Forest classifier\n",
    "\n",
    "\n",
    "Declare feature vector and target variable\n",
    "\n",
    "Split data into separate training and test set\n",
    "\n",
    "Train the XGBoost classifier\n",
    "\n",
    "Make predictions with XGBoost classifier\n",
    "\n",
    "Check accuracy score\n",
    "\n",
    "k-fold Cross Validation using XGBoost\n",
    "\n",
    "Feature importance with XGBoost\n",
    "\n",
    "Results and conclusion"
   ]
  },
  {
   "cell_type": "markdown",
   "metadata": {},
   "source": [
    "### Imports"
   ]
  },
  {
   "cell_type": "code",
   "execution_count": 2,
   "metadata": {},
   "outputs": [],
   "source": [
    "import opendatasets as od\n",
    "import os\n",
    "\n",
    "import pandas as pd\n",
    "import numpy as np\n",
    "\n",
    "import matplotlib.pyplot as plt\n",
    "import seaborn as sns\n",
    "\n",
    "from sklearn.impute import SimpleImputer\n",
    "from sklearn.preprocessing import MinMaxScaler\n",
    "from sklearn.preprocessing import OneHotEncoder"
   ]
  },
  {
   "cell_type": "markdown",
   "metadata": {},
   "source": [
    "### Loading preprocessed data"
   ]
  },
  {
   "cell_type": "code",
   "execution_count": 6,
   "metadata": {},
   "outputs": [],
   "source": [
    "target_col = 'RainTomorrow'\n",
    "\n",
    "train_inputs = pd.read_parquet('data/parquet/train_inputs.parquet')\n",
    "val_inputs = pd.read_parquet('data/parquet/val_inputs.parquet')\n",
    "test_inputs = pd.read_parquet('data/parquet/test_inputs.parquet')\n",
    "\n",
    "train_targets = pd.read_parquet('data/parquet/train_targets.parquet')[target_col]\n",
    "val_targets = pd.read_parquet('data/parquet/val_targets.parquet')[target_col]\n",
    "test_targets = pd.read_parquet('data/parquet/test_targets.parquet')[target_col]"
   ]
  },
  {
   "cell_type": "code",
   "execution_count": 7,
   "metadata": {},
   "outputs": [
    {
     "name": "stdout",
     "output_type": "stream",
     "text": [
      "train_inputs: (97988, 123)\n",
      "train_targets: (97988,)\n",
      "val_inputs: (17089, 123)\n",
      "val_targets: (17089,)\n",
      "test_inputs: (25710, 123)\n",
      "test_targets: (25710,)\n"
     ]
    }
   ],
   "source": [
    "print('train_inputs:', train_inputs.shape)\n",
    "print('train_targets:', train_targets.shape)\n",
    "print('val_inputs:', val_inputs.shape)\n",
    "print('val_targets:', val_targets.shape)\n",
    "print('test_inputs:', test_inputs.shape)\n",
    "print('test_targets:', test_targets.shape)"
   ]
  },
  {
   "cell_type": "markdown",
   "metadata": {},
   "source": [
    "### `LogisticRegression`"
   ]
  },
  {
   "cell_type": "markdown",
   "metadata": {},
   "source": [
    "### `Decision Tree classifier`\n"
   ]
  },
  {
   "cell_type": "markdown",
   "metadata": {},
   "source": [
    "### `XGBoost`"
   ]
  },
  {
   "cell_type": "markdown",
   "metadata": {},
   "source": [
    "### `LightGBM`"
   ]
  },
  {
   "cell_type": "markdown",
   "metadata": {},
   "source": [
    "### `Random Forest`"
   ]
  },
  {
   "cell_type": "code",
   "execution_count": null,
   "metadata": {},
   "outputs": [],
   "source": []
  }
 ],
 "metadata": {
  "kernelspec": {
   "display_name": "base",
   "language": "python",
   "name": "python3"
  },
  "language_info": {
   "codemirror_mode": {
    "name": "ipython",
    "version": 3
   },
   "file_extension": ".py",
   "mimetype": "text/x-python",
   "name": "python",
   "nbconvert_exporter": "python",
   "pygments_lexer": "ipython3",
   "version": "3.11.7"
  }
 },
 "nbformat": 4,
 "nbformat_minor": 2
}
